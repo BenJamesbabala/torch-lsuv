{
 "cells": [
  {
   "cell_type": "markdown",
   "metadata": {},
   "source": [
    "## References\n",
    "* http://arxiv.org/abs/1511.06422 *LSUV paper*\n",
    "* http://arxiv.org/abs/1312.6120 *ortonormal init which we use here to* \n",
    "* https://github.com/Lasagne/Lasagne/blob/master/lasagne/init.py *python code of orthogonal init*\n"
   ]
  },
  {
   "cell_type": "code",
   "execution_count": 105,
   "metadata": {
    "collapsed": false
   },
   "outputs": [],
   "source": [
    "function orthogonal_init(shape)\n",
    "    -- add checking for <2 dimensionality as they do in lasagne\n",
    "    local m = 1\n",
    "    for i=2,shape:size() do\n",
    "        m=m*shape[i]\n",
    "    end\n",
    "    f_shape = torch.LongStorage({shape[1], m})\n",
    "    a = torch.randn(f_shape)\n",
    "    u, s, v = torch.svd(a)\n",
    "    -- check this later, in numpy they use 'full_matrices' arg \n",
    "    -- in torch svd returns square u,v matrices\n",
    "    if f_shape[1] > f_shape[2] then\n",
    "        q = u[{{},{1, f_shape[2]}}]\n",
    "    else\n",
    "        q = v[{{1, f_shape[1]},{}}]\n",
    "    end\n",
    "    q = q:reshape(shape)\n",
    "    return q\n",
    "end"
   ]
  },
  {
   "cell_type": "code",
   "execution_count": 108,
   "metadata": {
    "collapsed": false
   },
   "outputs": [
    {
     "data": {
      "text/plain": [
       " -4.9899e-01   5.8683e-01  5.1333e-321  2.1277e+160 -3.1050e+231  1.4946e-154\n",
       " -4.4339e-01  -4.5625e-01   0.0000e+00  8.2509e-322 -3.1050e+231  1.4946e-154\n",
       "[torch.DoubleTensor of size 2x6]\n",
       "\n"
      ]
     },
     "execution_count": 108,
     "metadata": {},
     "output_type": "execute_result"
    }
   ],
   "source": [
    "local s = torch.LongStorage({2,6})\n",
    "local b = orthogonal_init(s)\n",
    "print(b)"
   ]
  }
 ],
 "metadata": {
  "kernelspec": {
   "display_name": "iTorch",
   "language": "lua",
   "name": "itorch"
  },
  "language_info": {
   "name": "lua",
   "version": "5.1"
  }
 },
 "nbformat": 4,
 "nbformat_minor": 0
}
